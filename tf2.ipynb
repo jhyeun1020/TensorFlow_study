{
  "nbformat": 4,
  "nbformat_minor": 0,
  "metadata": {
    "colab": {
      "name": "tf2.ipynb",
      "provenance": [],
      "collapsed_sections": [],
      "authorship_tag": "ABX9TyML63ZQrzybcrfsYZLBTg7Y"
    },
    "kernelspec": {
      "name": "python3",
      "display_name": "Python 3"
    }
  },
  "cells": [
    {
      "cell_type": "code",
      "metadata": {
        "id": "A-c6VCOl7d5j"
      },
      "source": [
        "import tensorflow as tf\r\n",
        "from tensorflow import keras\r\n",
        "\r\n",
        "# helper 라이브러리 임포트\r\n",
        "import numpy as np\r\n",
        "import matplotlib.pyplot as plt"
      ],
      "execution_count": 29,
      "outputs": []
    },
    {
      "cell_type": "code",
      "metadata": {
        "id": "t1g9j5db7rpC"
      },
      "source": [
        "# 손글씨 숫자 이미지로 이루어진 MNIST 데이터 셋을 대신하여\r\n",
        "# 보다 더 다양한 예제를 풀기 위해 패션 MNIST 데이터 셋을 사용함\r\n",
        "fashion_mnist = keras.datasets.fashion_mnist\r\n",
        "(train_images, train_labels), (test_images, test_labels) = fashion_mnist.load_data()"
      ],
      "execution_count": 30,
      "outputs": []
    },
    {
      "cell_type": "code",
      "metadata": {
        "colab": {
          "base_uri": "https://localhost:8080/"
        },
        "id": "2BK9l8DL8n2f",
        "outputId": "b801fc63-93e4-49e4-db8b-f8f1b2536739"
      },
      "source": [
        "# load() 함수를 사용하여 튜플형식으로 호출한 MNIST 데이터는 대부분 넘파이 배열인듯\r\n",
        "type(train_images)"
      ],
      "execution_count": 21,
      "outputs": [
        {
          "output_type": "execute_result",
          "data": {
            "text/plain": [
              "numpy.ndarray"
            ]
          },
          "metadata": {
            "tags": []
          },
          "execution_count": 21
        }
      ]
    },
    {
      "cell_type": "code",
      "metadata": {
        "colab": {
          "base_uri": "https://localhost:8080/"
        },
        "id": "oYHHqlY28_NT",
        "outputId": "8dcaf817-abed-407b-b4e9-1925a94e1e72"
      },
      "source": [
        "type(test_labels)"
      ],
      "execution_count": 4,
      "outputs": [
        {
          "output_type": "execute_result",
          "data": {
            "text/plain": [
              "numpy.ndarray"
            ]
          },
          "metadata": {
            "tags": []
          },
          "execution_count": 4
        }
      ]
    },
    {
      "cell_type": "code",
      "metadata": {
        "id": "A3LoWwd69Jfb"
      },
      "source": [
        "# 패션 데이터셋의 레이블(옷의 클래스를 나타냄)은 0~9까지의 정수 배열임\r\n",
        "# 추후에 보기 쉽게 하기 위해 레이블에 이름을 달아줌(배열을 생성하여 인덱스로 이름을 찾을 수 있도록 함)\r\n",
        "class_names = ['T-shirt/top', 'Trouser', 'Pullover', 'Dress', 'Coat', \r\n",
        "               'Sandal', 'Shirt', 'Sneaker', 'Bag', 'Ankle boot']"
      ],
      "execution_count": 20,
      "outputs": []
    },
    {
      "cell_type": "code",
      "metadata": {
        "colab": {
          "base_uri": "https://localhost:8080/"
        },
        "id": "otmXYASs-Esm",
        "outputId": "57e748c6-4959-4259-91a2-599399c4a1cf"
      },
      "source": [
        "# 60,000개의 이미지 데이터 존재\r\n",
        "# 각 이미지는 28x28 픽셀로 구현되어 있음\r\n",
        "train_images.shape"
      ],
      "execution_count": null,
      "outputs": [
        {
          "output_type": "execute_result",
          "data": {
            "text/plain": [
              "(60000, 28, 28)"
            ]
          },
          "metadata": {
            "tags": []
          },
          "execution_count": 7
        }
      ]
    },
    {
      "cell_type": "code",
      "metadata": {
        "colab": {
          "base_uri": "https://localhost:8080/"
        },
        "id": "ZKJnhN7JAM99",
        "outputId": "a3b01c73-130e-48f6-9394-c6bb8c2fb849"
      },
      "source": [
        "# 마찬가지로 60,000개의 정답 레이블 존재\r\n",
        "len(train_labels)"
      ],
      "execution_count": null,
      "outputs": [
        {
          "output_type": "execute_result",
          "data": {
            "text/plain": [
              "60000"
            ]
          },
          "metadata": {
            "tags": []
          },
          "execution_count": 8
        }
      ]
    },
    {
      "cell_type": "code",
      "metadata": {
        "colab": {
          "base_uri": "https://localhost:8080/"
        },
        "id": "bbUTxqOdAmi8",
        "outputId": "8d9512e4-2c48-49fe-a8c2-be8169ca604f"
      },
      "source": [
        "# 레이블의 데이터 타입 확인 가능\r\n",
        "train_labels"
      ],
      "execution_count": null,
      "outputs": [
        {
          "output_type": "execute_result",
          "data": {
            "text/plain": [
              "array([9, 0, 0, ..., 3, 0, 5], dtype=uint8)"
            ]
          },
          "metadata": {
            "tags": []
          },
          "execution_count": 9
        }
      ]
    },
    {
      "cell_type": "code",
      "metadata": {
        "colab": {
          "base_uri": "https://localhost:8080/"
        },
        "id": "HPdXsLsCAttI",
        "outputId": "a832d8e4-580d-4aad-a43b-20b241c64a4c"
      },
      "source": [
        "# 테스트 이미지 데이터는 10,000개가 존재\r\n",
        "test_images.shape"
      ],
      "execution_count": null,
      "outputs": [
        {
          "output_type": "execute_result",
          "data": {
            "text/plain": [
              "(10000, 28, 28)"
            ]
          },
          "metadata": {
            "tags": []
          },
          "execution_count": 10
        }
      ]
    },
    {
      "cell_type": "code",
      "metadata": {
        "colab": {
          "base_uri": "https://localhost:8080/"
        },
        "id": "t6W8j9tOBCRj",
        "outputId": "afe5769a-6e6e-46b6-ffe3-436aa8888ffa"
      },
      "source": [
        "# 이하 내용은 같습니다,,\r\n",
        "len(test_labels)"
      ],
      "execution_count": null,
      "outputs": [
        {
          "output_type": "execute_result",
          "data": {
            "text/plain": [
              "10000"
            ]
          },
          "metadata": {
            "tags": []
          },
          "execution_count": 11
        }
      ]
    },
    {
      "cell_type": "code",
      "metadata": {
        "colab": {
          "base_uri": "https://localhost:8080/",
          "height": 265
        },
        "id": "1rqFs2BGBPnj",
        "outputId": "c5e5a75c-c264-4c99-88a1-6adc3b199c59"
      },
      "source": [
        "plt.figure() # figure 창 가로 세로 크기 조절 가능\r\n",
        "plt.imshow(train_images[0]) # 첫번째 이미지 데이터\r\n",
        "plt.colorbar() # 우측 칼라 바\r\n",
        "plt.grid(False) # 격자 표시 (아마 False가 default 값인듯)\r\n",
        "plt.show()"
      ],
      "execution_count": 22,
      "outputs": [
        {
          "output_type": "display_data",
          "data": {
            "image/png": "[encoded data removed]",
            "text/plain": [
              "<Figure size 432x288 with 2 Axes>"
            ]
          },
          "metadata": {
            "tags": [],
            "needs_background": "light"
          }
        }
      ]
    },
    {
      "cell_type": "code",
      "metadata": {
        "id": "DmWBCnWdBsbj"
      },
      "source": [
        "# 이미지 픽셀 값의 범위가 0~255 사이이기 때문에 값의 범위를 0~1 사이로 정규화 해줌\r\n",
        "# 이처럼 입력 데이터에 특정 변환을 가하는 것을 전처리 과정이라고 부름\r\n",
        "train_images = train_images / 255.0\r\n",
        "test_images = test_images / 255.0"
      ],
      "execution_count": 23,
      "outputs": []
    },
    {
      "cell_type": "code",
      "metadata": {
        "colab": {
          "base_uri": "https://localhost:8080/",
          "height": 589
        },
        "id": "FcphwI8dOlE9",
        "outputId": "7cbc3b31-c407-47ad-d76b-cca08abfdd1e"
      },
      "source": [
        "plt.figure(figsize=(10,10))\r\n",
        "for i in range(25):\r\n",
        "  plt.subplot(5,5,i+1)\r\n",
        "  plt.xticks([])\r\n",
        "  plt.yticks([]) # 해당 축의 눈금을 없애 줌\r\n",
        "  plt.grid(False)\r\n",
        "  plt.imshow(train_images[i], cmap=plt.cm.binary)\r\n",
        "  plt.xlabel(class_names[train_labels[i]])\r\n",
        "plt.show()"
      ],
      "execution_count": 60,
      "outputs": [
        {
          "output_type": "display_data",
          "data": {
            "image/png": "[encoded data removed]",
            "text/plain": [
              "<Figure size 720x720 with 25 Axes>"
            ]
          },
          "metadata": {
            "tags": []
          }
        }
      ]
    },
    {
      "cell_type": "markdown",
      "metadata": {
        "id": "79xIFJNKbrXm"
      },
      "source": [
        "데이터 포맷이 올바른지 확인했으니 이제 훈련할 준비 완료!"
      ]
    },
    {
      "cell_type": "markdown",
      "metadata": {
        "id": "IixYp6MQb187"
      },
      "source": [
        "**모델 구성**"
      ]
    },
    {
      "cell_type": "code",
      "metadata": {
        "id": "LN99WH51VF46"
      },
      "source": [
        "# 층 설정(layer)\r\n",
        "model = keras.Sequential([\r\n",
        "    keras.layers.Flatten(input_shape=(28, 28)),\r\n",
        "    keras.layers.Dense(128, activation='relu'),\r\n",
        "    keras.layers.Dense(10, activation='softmax')\r\n",
        "])\r\n",
        "# 1. # 28 x 28 픽셀의 이미지 형식을 1차원으로 평탄화\r\n",
        "# 2, 3. 두 개의 완전 연결(밀집 연결) -> fully-connected(densly-connected) 층\r\n",
        "# 2, 3. 첫 번째 층은 렐루 함수를 활성화 함수로 하며 128개의 뉴런으로 이루어짐\r\n",
        "# 2, 3. 두 번째 층은 소프트맥스 함수를 활성화 함수로 하며 10개의 뉴런(클래스의 개수)으로 이루어짐\r\n",
        "# 마지막 층의 10개의 뉴런에서 반환된 값의 합은 1 (반환된 값은 확률을 나타냄)\r\n",
        "# Dense 레이어는 가중치를 포함하는 레이어인듯"
      ],
      "execution_count": 46,
      "outputs": []
    },
    {
      "cell_type": "code",
      "metadata": {
        "id": "wxrj4dA-V7-v"
      },
      "source": [
        "# 모델 컴파일\r\n",
        "model.compile(optimizer='adam',\r\n",
        "              loss='sparse_categorical_crossentropy',\r\n",
        "              metrics=['accuracy'])\r\n",
        "# optimizer = Optimizer -> ex) gradient descent\r\n",
        "# loss = Loss function -> ex) cross entropy error\r\n",
        "# metrics = Metrics; Used to monitoring training and test steps -> ex) accuracy"
      ],
      "execution_count": 47,
      "outputs": []
    },
    {
      "cell_type": "markdown",
      "metadata": {
        "id": "V5-dPcFJd2Hb"
      },
      "source": [
        "**모델 훈련**"
      ]
    },
    {
      "cell_type": "code",
      "metadata": {
        "colab": {
          "base_uri": "https://localhost:8080/"
        },
        "id": "_pZe_-zKd7fK",
        "outputId": "d1e9b436-e11b-433c-ba61-c46cfbe497c7"
      },
      "source": [
        "model.fit(train_images, train_labels, epochs=5)\r\n",
        "# 훈련 이미지, 훈련 레이블, 에폭 수를 인수로 fit() 메서드를 호출하여 모델이 훈련 데이터를 학습하게 함\r\n"
      ],
      "execution_count": 48,
      "outputs": [
        {
          "output_type": "stream",
          "text": [
            "Epoch 1/5\n",
            "1875/1875 [==============================] - 6s 3ms/step - loss: 10.0482 - accuracy: 0.6865\n",
            "Epoch 2/5\n",
            "1875/1875 [==============================] - 5s 2ms/step - loss: 0.6492 - accuracy: 0.7737\n",
            "Epoch 3/5\n",
            "1875/1875 [==============================] - 4s 2ms/step - loss: 0.5927 - accuracy: 0.7925\n",
            "Epoch 4/5\n",
            "1875/1875 [==============================] - 5s 2ms/step - loss: 0.5503 - accuracy: 0.8073\n",
            "Epoch 5/5\n",
            "1875/1875 [==============================] - 5s 2ms/step - loss: 0.5354 - accuracy: 0.8127\n"
          ],
          "name": "stdout"
        },
        {
          "output_type": "execute_result",
          "data": {
            "text/plain": [
              "<tensorflow.python.keras.callbacks.History at 0x7fcea53958d0>"
            ]
          },
          "metadata": {
            "tags": []
          },
          "execution_count": 48
        }
      ]
    },
    {
      "cell_type": "markdown",
      "metadata": {
        "id": "kK0on_Untn0m"
      },
      "source": [
        "**정확도 평가**"
      ]
    },
    {
      "cell_type": "code",
      "metadata": {
        "colab": {
          "base_uri": "https://localhost:8080/"
        },
        "id": "6YH8PpbetIqd",
        "outputId": "7ed7b40e-af67-4ae3-d069-0b2718e5cdce"
      },
      "source": [
        "test_loss, test_acc = model.evaluate(test_images, test_labels, verbose=2)\r\n",
        "print('\\n테스트 정확도:', test_acc)\r\n",
        "# 테스트 이미지, 테스트 레이블을 인수로 evaluate() 메서드를 호출하여 모델의 성능을 비교"
      ],
      "execution_count": 49,
      "outputs": [
        {
          "output_type": "stream",
          "text": [
            "313/313 - 0s - loss: 0.5876 - accuracy: 0.8016\n",
            "\n",
            "테스트 정확도: 0.8015999794006348\n"
          ],
          "name": "stdout"
        }
      ]
    },
    {
      "cell_type": "markdown",
      "metadata": {
        "id": "zxtOAzxFuMBC"
      },
      "source": [
        "테스트 정확도가 훈련 이미지 데이터 보다 살짝 낮은 것을 확인할 수 있는데 이는 overfitting 때문"
      ]
    },
    {
      "cell_type": "markdown",
      "metadata": {
        "id": "ZSzcnN83vIw7"
      },
      "source": [
        "**예측 만들기**"
      ]
    },
    {
      "cell_type": "code",
      "metadata": {
        "id": "5_wircmGuTHX"
      },
      "source": [
        "predictions = model.predict(test_images)"
      ],
      "execution_count": 51,
      "outputs": []
    },
    {
      "cell_type": "code",
      "metadata": {
        "colab": {
          "base_uri": "https://localhost:8080/"
        },
        "id": "fNtlab6JwNfW",
        "outputId": "3b19d630-da9e-4658-bc48-0054c732dafc"
      },
      "source": [
        "predictions[0]\r\n",
        "# 10개의 옷 품목에 상응하는 모델의 확률(신뢰도)를 예측함"
      ],
      "execution_count": 54,
      "outputs": [
        {
          "output_type": "execute_result",
          "data": {
            "text/plain": [
              "array([2.0428620e-12, 1.9035506e-08, 1.4037930e-24, 2.0830435e-11,\n",
              "       1.5271296e-19, 3.5867593e-03, 1.6161997e-24, 1.1704274e-02,\n",
              "       4.2207531e-09, 9.8470902e-01], dtype=float32)"
            ]
          },
          "metadata": {
            "tags": []
          },
          "execution_count": 54
        }
      ]
    },
    {
      "cell_type": "code",
      "metadata": {
        "colab": {
          "base_uri": "https://localhost:8080/"
        },
        "id": "gO-YNpnjwOzt",
        "outputId": "e5995f7c-1228-4de3-df09-53e29dd621da"
      },
      "source": [
        "np.argmax(predictions[0])\r\n",
        "# 9번 인덱스가 가장 높음(앵클 부츠)"
      ],
      "execution_count": 56,
      "outputs": [
        {
          "output_type": "execute_result",
          "data": {
            "text/plain": [
              "9"
            ]
          },
          "metadata": {
            "tags": []
          },
          "execution_count": 56
        }
      ]
    },
    {
      "cell_type": "code",
      "metadata": {
        "colab": {
          "base_uri": "https://localhost:8080/",
          "height": 36
        },
        "id": "zSedjHPnw4cU",
        "outputId": "c069c0b8-fe0f-403e-aacd-f5401e6ce50b"
      },
      "source": [
        "class_names[np.argmax(predictions[0])]\r\n",
        "# 9를 인덱스로하여 class_names 배열의 10번째 요소인 'Ankle boot'를 추출"
      ],
      "execution_count": 58,
      "outputs": [
        {
          "output_type": "execute_result",
          "data": {
            "application/vnd.google.colaboratory.intrinsic+json": {
              "type": "string"
            },
            "text/plain": [
              "'Ankle boot'"
            ]
          },
          "metadata": {
            "tags": []
          },
          "execution_count": 58
        }
      ]
    },
    {
      "cell_type": "code",
      "metadata": {
        "id": "n2Kd2PmXxP0s"
      },
      "source": [
        "def plot_image(i, predictions_array, true_label, img):\r\n",
        "  predictions_array, true_label, img = predictions_array[i], true_label[i], img[i]\r\n",
        "  plt.grid(False)\r\n",
        "  plt.xticks([])\r\n",
        "  plt.yticks([])\r\n",
        "\r\n",
        "  plt.imshow(img, cmap=plt.cm.binary)\r\n",
        "\r\n",
        "  predicted_label = np.argmax(predictions_array)\r\n",
        "  if predicted_label == true_label:\r\n",
        "    color = 'blue'\r\n",
        "  else:\r\n",
        "    color = 'red'\r\n",
        "\r\n",
        "  plt.xlabel(\"{} {:2.0f}% ({})\".format(class_names[predicted_label],\r\n",
        "                                100*np.max(predictions_array),\r\n",
        "                                class_names[true_label]),\r\n",
        "                                color=color)\r\n",
        "\r\n",
        "def plot_value_array(i, predictions_array, true_label):\r\n",
        "  predictions_array, true_label = predictions_array[i], true_label[i]\r\n",
        "  plt.grid(False)\r\n",
        "  plt.xticks([])\r\n",
        "  plt.yticks([])\r\n",
        "  thisplot = plt.bar(range(10), predictions_array, color=\"#777777\")\r\n",
        "  plt.ylim([0, 1])\r\n",
        "  predicted_label = np.argmax(predictions_array)\r\n",
        "\r\n",
        "  thisplot[predicted_label].set_color('red')\r\n",
        "  thisplot[true_label].set_color('blue')"
      ],
      "execution_count": 69,
      "outputs": []
    },
    {
      "cell_type": "code",
      "metadata": {
        "colab": {
          "base_uri": "https://localhost:8080/",
          "height": 203
        },
        "id": "GS7ou055XyIR",
        "outputId": "bc349ea9-7902-4cc6-e81a-563c86e3386c"
      },
      "source": [
        "i = 0\r\n",
        "plt.figure(figsize=(6,3))\r\n",
        "plt.subplot(1,2,1)\r\n",
        "plot_image(i, predictions, test_labels, test_images)\r\n",
        "plt.subplot(1,2,2)\r\n",
        "plot_value_array(i, predictions,  test_labels)\r\n",
        "plt.show()"
      ],
      "execution_count": 70,
      "outputs": [
        {
          "output_type": "display_data",
          "data": {
            "image/png": "[encoded data removed]",
            "text/plain": [
              "<Figure size 432x216 with 2 Axes>"
            ]
          },
          "metadata": {
            "tags": []
          }
        }
      ]
    },
    {
      "cell_type": "code",
      "metadata": {
        "colab": {
          "base_uri": "https://localhost:8080/",
          "height": 203
        },
        "id": "EPFP9mpiX022",
        "outputId": "6b26cbe6-b963-4f72-a6c8-5a80ee7e632a"
      },
      "source": [
        "i = 12\r\n",
        "plt.figure(figsize=(6,3))\r\n",
        "plt.subplot(1,2,1)\r\n",
        "plot_image(i, predictions, test_labels, test_images)\r\n",
        "plt.subplot(1,2,2)\r\n",
        "plot_value_array(i, predictions,  test_labels)\r\n",
        "plt.show()"
      ],
      "execution_count": 71,
      "outputs": [
        {
          "output_type": "display_data",
          "data": {
            "image/png": "[encoded data removed]",
            "text/plain": [
              "<Figure size 432x216 with 2 Axes>"
            ]
          },
          "metadata": {
            "tags": []
          }
        }
      ]
    },
    {
      "cell_type": "code",
      "metadata": {
        "colab": {
          "base_uri": "https://localhost:8080/",
          "height": 589
        },
        "id": "4QMqND1AX2QX",
        "outputId": "f9734f27-fd94-4631-9bd3-27b2572bb967"
      },
      "source": [
        "# 처음 X 개의 테스트 이미지와 예측 레이블, 진짜 레이블을 출력합니다\r\n",
        "# 올바른 예측은 파랑색으로 잘못된 예측은 빨강색으로 나타냅니다\r\n",
        "num_rows = 5\r\n",
        "num_cols = 3\r\n",
        "num_images = num_rows*num_cols\r\n",
        "plt.figure(figsize=(2*2*num_cols, 2*num_rows))\r\n",
        "for i in range(num_images):\r\n",
        "  plt.subplot(num_rows, 2*num_cols, 2*i+1)\r\n",
        "  plot_image(i, predictions, test_labels, test_images)\r\n",
        "  plt.subplot(num_rows, 2*num_cols, 2*i+2)\r\n",
        "  plot_value_array(i, predictions, test_labels)\r\n",
        "plt.show()"
      ],
      "execution_count": 72,
      "outputs": [
        {
          "output_type": "display_data",
          "data": {
            "image/png": "[encoded data removed]",
            "text/plain": [
              "<Figure size 864x720 with 30 Axes>"
            ]
          },
          "metadata": {
            "tags": []
          }
        }
      ]
    },
    {
      "cell_type": "markdown",
      "metadata": {
        "id": "Iw700O-rYJV_"
      },
      "source": [
        "정확히 80%의 정답률을 가지는듯.."
      ]
    },
    {
      "cell_type": "code",
      "metadata": {
        "colab": {
          "base_uri": "https://localhost:8080/"
        },
        "id": "39PjKq7JX8tv",
        "outputId": "b6877b69-5fd2-494c-8d3f-28ad6f59f2f0"
      },
      "source": [
        "# 테스트 세트에서 이미지 하나를 선택\r\n",
        "img = test_images[0]\r\n",
        "\r\n",
        "print(img.shape)"
      ],
      "execution_count": 100,
      "outputs": [
        {
          "output_type": "stream",
          "text": [
            "(28, 28)\n"
          ],
          "name": "stdout"
        }
      ]
    },
    {
      "cell_type": "code",
      "metadata": {
        "colab": {
          "base_uri": "https://localhost:8080/"
        },
        "id": "lwQ94IAiYRN7",
        "outputId": "24fbc380-1b98-4ca9-8fd1-648fa1fd07ef"
      },
      "source": [
        "# 이미지 하나만 사용할 때도 배치에 추가\r\n",
        "# 이유 -> tf.keras는 배치(batch)로 예측을 만드는데 최적화 되어 있기 때문에\r\n",
        "# 하나만 예측할 때에도 차원을 늘려줘야 함\r\n",
        "img = np.reshape(img,(1,28,28))\r\n",
        "img = (np.expand_dims(img,0))\r\n",
        "# 위에 두개 다 차원을 늘리는 용도로 사용 가능한듯 코딩할 땐 하나만 사용!\r\n",
        "print(img.shape)"
      ],
      "execution_count": 101,
      "outputs": [
        {
          "output_type": "stream",
          "text": [
            "(1, 28, 28)\n"
          ],
          "name": "stdout"
        }
      ]
    },
    {
      "cell_type": "code",
      "metadata": {
        "colab": {
          "base_uri": "https://localhost:8080/"
        },
        "id": "CEqD2w-uYpUs",
        "outputId": "fd12a532-4016-452f-a457-53d2d6ce5541"
      },
      "source": [
        "predictions_single = model.predict(img)\r\n",
        "\r\n",
        "print(predictions_single)"
      ],
      "execution_count": 93,
      "outputs": [
        {
          "output_type": "stream",
          "text": [
            "[[2.0428620e-12 1.9035506e-08 1.4037930e-24 2.0830435e-11 1.5271296e-19\n",
            "  3.5867593e-03 1.6161997e-24 1.1704274e-02 4.2207526e-09 9.8470902e-01]]\n"
          ],
          "name": "stdout"
        }
      ]
    },
    {
      "cell_type": "code",
      "metadata": {
        "colab": {
          "base_uri": "https://localhost:8080/",
          "height": 300
        },
        "id": "HUdzJg25Yr64",
        "outputId": "d5b3c669-ac89-4fe4-f2bb-c2daa598f22f"
      },
      "source": [
        "plot_value_array(0, predictions_single, test_labels)\r\n",
        "_ = plt.xticks(range(10), class_names, rotation=45)"
      ],
      "execution_count": 81,
      "outputs": [
        {
          "output_type": "display_data",
          "data": {
            "image/png": "[encoded data removed]",
            "text/plain": [
              "<Figure size 432x288 with 1 Axes>"
            ]
          },
          "metadata": {
            "tags": [],
            "needs_background": "light"
          }
        }
      ]
    },
    {
      "cell_type": "code",
      "metadata": {
        "colab": {
          "base_uri": "https://localhost:8080/"
        },
        "id": "hoP8ueZRYvl-",
        "outputId": "4b1c3881-5ea2-48b0-bca2-dfdf80a4d32b"
      },
      "source": [
        "np.argmax(predictions_single[0])"
      ],
      "execution_count": 82,
      "outputs": [
        {
          "output_type": "execute_result",
          "data": {
            "text/plain": [
              "9"
            ]
          },
          "metadata": {
            "tags": []
          },
          "execution_count": 82
        }
      ]
    },
    {
      "cell_type": "code",
      "metadata": {
        "colab": {
          "base_uri": "https://localhost:8080/",
          "height": 36
        },
        "id": "30782aBJdC1Q",
        "outputId": "00265b2e-6ee7-412f-87de-00b02807cc04"
      },
      "source": [
        "np.__version__"
      ],
      "execution_count": 94,
      "outputs": [
        {
          "output_type": "execute_result",
          "data": {
            "application/vnd.google.colaboratory.intrinsic+json": {
              "type": "string"
            },
            "text/plain": [
              "'1.19.5'"
            ]
          },
          "metadata": {
            "tags": []
          },
          "execution_count": 94
        }
      ]
    }
  ]
}