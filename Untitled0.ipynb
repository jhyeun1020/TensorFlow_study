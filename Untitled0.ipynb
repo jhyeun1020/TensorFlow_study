{
  "nbformat": 4,
  "nbformat_minor": 0,
  "metadata": {
    "colab": {
      "name": "Untitled0.ipynb",
      "provenance": [],
      "collapsed_sections": [],
      "authorship_tag": "ABX9TyMeDuBd+FzIee2ylo4fy3gk"
    },
    "kernelspec": {
      "name": "python3",
      "display_name": "Python 3"
    }
  },
  "cells": [
    {
      "cell_type": "code",
      "metadata": {
        "id": "Ej64TQCv8aUz"
      },
      "source": [
        "print('test colab')"
      ],
      "execution_count": null,
      "outputs": []
    }
  ]
}