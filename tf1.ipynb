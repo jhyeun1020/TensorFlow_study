{
  "nbformat": 4,
  "nbformat_minor": 0,
  "metadata": {
    "colab": {
      "name": "tf1.ipynb",
      "provenance": [],
      "collapsed_sections": [],
      "authorship_tag": "ABX9TyPKunjOJrpIL+FhEI5i5WB8"
    },
    "kernelspec": {
      "name": "python3",
      "display_name": "Python 3"
    }
  },
  "cells": [
    {
      "cell_type": "code",
      "metadata": {
        "id": "Ej64TQCv8aUz"
      },
      "source": [
        "import tensorflow as tf"
      ],
      "execution_count": 6,
      "outputs": []
    },
    {
      "cell_type": "code",
      "metadata": {
        "id": "ax-pkWW3Kw_H"
      },
      "source": [
        "mnist = tf.keras.datasets.mnist\r\n",
        "\r\n",
        "(x_train, y_train), (x_test, y_test) = mnist.load_data()\r\n",
        "x_train, x_test = x_train / 255.0, x_test / 255.0\r\n",
        "# -> 이미지 픽셀 값의 범위가 0 ~ 255이기 때문에 0.0~1.0 사이의 값으로 정규화 하기 위해 255.0으로 나누어줌"
      ],
      "execution_count": 9,
      "outputs": []
    },
    {
      "cell_type": "code",
      "metadata": {
        "id": "EFXoIxBWQKDk"
      },
      "source": [
        "model = tf.keras.models.Sequential([   # 4개의 layer로 구성된 신경망\r\n",
        "  tf.keras.layers.Flatten(input_shape=(28, 28)), # 1차원으로 평탄화\r\n",
        "  tf.keras.layers.Dense(128, activation='relu'), # 2번째 레이어에 128개의 노드가 있음, 활성화 함수로 렐루 함수 사용\r\n",
        "  tf.keras.layers.Dropout(0.2),                  # 드롭아웃 기법 사용 -> 20% (0.2)를 무시\r\n",
        "  tf.keras.layers.Dense(10, activation='softmax')# 10개의 노드로 출력, 출력층 소프트 맥스 함수 사용\r\n",
        "])\r\n",
        "# 정의된 신경망 모델을 컴파일 함\r\n",
        "model.compile(optimizer='adam',             # optimizer - > 최적화 (매개변수를 학습시키는 방법으로 adam을 사용)\r\n",
        "              loss='sparse_categorical_crossentropy', # 손실 함수 지정\r\n",
        "              metrics=['accuracy'])    # 측정할 항목 (학습된 모델의 정확도를 판단하기 위함일듯..?)"
      ],
      "execution_count": 10,
      "outputs": []
    },
    {
      "cell_type": "code",
      "metadata": {
        "colab": {
          "base_uri": "https://localhost:8080/"
        },
        "id": "pYVcSFsFSyHr",
        "outputId": "58b74ad9-6126-464d-9ace-5233480decf7"
      },
      "source": [
        "model.fit(x_train, y_train, epochs=5) # 학습용 데이터셋에 대해 학습 실행 반복 수(epoch) 5로 지정"
      ],
      "execution_count": 18,
      "outputs": [
        {
          "output_type": "stream",
          "text": [
            "Epoch 1/5\n",
            "1875/1875 [==============================] - 3s 2ms/step - loss: 0.0427 - accuracy: 0.9857\n",
            "Epoch 2/5\n",
            "1875/1875 [==============================] - 3s 2ms/step - loss: 0.0402 - accuracy: 0.9874\n",
            "Epoch 3/5\n",
            "1875/1875 [==============================] - 3s 2ms/step - loss: 0.0378 - accuracy: 0.9876\n",
            "Epoch 4/5\n",
            "1875/1875 [==============================] - 3s 2ms/step - loss: 0.0353 - accuracy: 0.9879\n",
            "Epoch 5/5\n",
            "1875/1875 [==============================] - 3s 2ms/step - loss: 0.0347 - accuracy: 0.9882\n"
          ],
          "name": "stdout"
        },
        {
          "output_type": "execute_result",
          "data": {
            "text/plain": [
              "<tensorflow.python.keras.callbacks.History at 0x7fb367b04198>"
            ]
          },
          "metadata": {
            "tags": []
          },
          "execution_count": 18
        }
      ]
    },
    {
      "cell_type": "code",
      "metadata": {
        "colab": {
          "base_uri": "https://localhost:8080/"
        },
        "id": "jSB4U5fsXqt4",
        "outputId": "3b08e891-df02-4f11-9d37-4c42364d9e06"
      },
      "source": [
        "model.evaluate(x_test,  y_test, verbose=2)  # 평가 데이터셋에 대한 모델의 손실 값과 정확도"
      ],
      "execution_count": 19,
      "outputs": [
        {
          "output_type": "stream",
          "text": [
            "313/313 - 0s - loss: 0.0724 - accuracy: 0.9807\n"
          ],
          "name": "stdout"
        },
        {
          "output_type": "execute_result",
          "data": {
            "text/plain": [
              "[0.0724165067076683, 0.9807000160217285]"
            ]
          },
          "metadata": {
            "tags": []
          },
          "execution_count": 19
        }
      ]
    }
  ]
}